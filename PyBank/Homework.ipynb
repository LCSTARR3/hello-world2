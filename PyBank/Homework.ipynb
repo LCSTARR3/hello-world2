{
 "cells": [
  {
   "cell_type": "code",
   "execution_count": 1,
   "metadata": {},
   "outputs": [],
   "source": [
    "import csv\n",
    "import os"
   ]
  },
  {
   "cell_type": "code",
   "execution_count": 2,
   "metadata": {},
   "outputs": [],
   "source": [
    "#fetch the file\n",
    "file = os.path.join ('..', 'PyBank', 'PyBank_data.csv')\n"
   ]
  },
  {
   "cell_type": "code",
   "execution_count": 4,
   "metadata": {},
   "outputs": [],
   "source": [
    "#create placeholde4r list for the PyBank_data\n",
    "months = []\n",
    "net_total = []\n"
   ]
  },
  {
   "cell_type": "code",
   "execution_count": 7,
   "metadata": {},
   "outputs": [
    {
     "name": "stdout",
     "output_type": "stream",
     "text": [
      "Financial Analysis\n",
      "----------------------------\n",
      "Months: 41\n",
      "Total: $18971412\n",
      "Average Monthly Change: -6758.98\n",
      "Greatest Increase in Profits: 16-Feb ($1837235)\n",
      "Greatest Decrease in Profits: 14-Aug ($-1779747)\n"
     ]
    }
   ],
   "source": [
    "with open ('PyBank_Data.csv', newline = \"\") as csvfile:\n",
    "    readcsv = csv.reader(csvfile, delimiter = ',')\n",
    "    \n",
    "    csv_header = next(csvfile)\n",
    "\n",
    "    #put the data into lists\n",
    "    for row in readcsv:\n",
    "        months.append(row[0])\n",
    "        net_total.append(int(row[1]))\n",
    "\n",
    "    #count the number of months\n",
    "    month_count = len(months)\n",
    "\n",
    "    #set varialble for loops\n",
    "    x = 1\n",
    "    y = 0\n",
    "\n",
    "    #average change place holder\n",
    "    average_change = (net_total[1] - net_total[0])\n",
    "\n",
    "    #place holder list for changes\n",
    "    changes = []\n",
    "\n",
    "    #for loop to calculate month to month change and dump the \n",
    "    for month in range(month_count-1):\n",
    "        average_change = (net_total[x] - net_total[y])\n",
    "        changes.append(int(average_change))\n",
    "        x+=1\n",
    "        y+=1\n",
    "\n",
    "        #Calculate the average monthly change and round it\n",
    "        av_mon_chng = round(sum(changes)/(month_count -1),2)\n",
    "\n",
    "        #find the min and max change\n",
    "        min_change = min(changes)\n",
    "        max_change = max(changes)\n",
    "\n",
    "        #return the index to find the positions in the list\n",
    "        chng_i_min = changes.index(min_change)\n",
    "        chng_i_max = changes.index(max_change)\n",
    "\n",
    "        #find the months for the min and max changes\n",
    "        min_chng_month = months[chng_i_min + 1]\n",
    "        max_chng_month = months[chng_i_max + 1]\n",
    "\n",
    "    #Print the values in console\n",
    "\n",
    "    print(\"Financial Analysis\")\n",
    "    print(\"----------------------------\")\n",
    "    print(f\"Months: {len(months)}\")\n",
    "    print(f\"Total: ${sum(net_total)}\")\n",
    "    print(f\"Average Monthly Change: {av_mon_chng}\")\n",
    "    print(f\"Greatest Increase in Profits: {max_chng_month} (${max_change})\")\n",
    "    print(f\"Greatest Decrease in Profits: {min_chng_month} (${min_change})\")\n",
    "\n",
    "    #Write the output to a text file\n",
    "    fin_analysis = open(\"Financial_Analysis.txt\", \"w\")\n",
    "\n",
    "    fin_analysis.write(\"Financial Analysis\\n\")\n",
    "    fin_analysis.write(\"--------------------------\\n\")\n",
    "    fin_analysis.write(f\"Months: {len(months)}\\n\")\n",
    "    fin_analysis.write(f\"Total: ${sum(net_total)}\\n\")\n",
    "    fin_analysis.write(f\"Average Monthly Change: {av_mon_chng}\\n\")\n",
    "    fin_analysis.write(f\"Greatest Increase in Profits: {max_chng_month} (${max_change})\\n\")\n",
    "    fin_analysis.write(f\"Greatest Decrease in Profits: {max_chng_month} (${min_change})\\n\")\n",
    "\n",
    "    fin_analysis.close()\n",
    "\n",
    "\n"
   ]
  },
  {
   "cell_type": "code",
   "execution_count": null,
   "metadata": {},
   "outputs": [],
   "source": []
  }
 ],
 "metadata": {
  "kernelspec": {
   "display_name": "Python 3",
   "language": "python",
   "name": "python3"
  },
  "language_info": {
   "codemirror_mode": {
    "name": "ipython",
    "version": 3
   },
   "file_extension": ".py",
   "mimetype": "text/x-python",
   "name": "python",
   "nbconvert_exporter": "python",
   "pygments_lexer": "ipython3",
   "version": "3.6.10"
  }
 },
 "nbformat": 4,
 "nbformat_minor": 4
}
